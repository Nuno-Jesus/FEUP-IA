{
 "cells": [
  {
   "cell_type": "markdown",
   "metadata": {},
   "source": [
    "## TOC:\n",
    "* [Reading and analysing the data](#analysis)\n",
    "* [Create smaller dataset](#smaller)\n",
    "* [Preparing the data](#preparing)\n",
    "* [Training the models](#training)\n",
    "    * [Decision Tree](#dt)\n",
    "    * [Neural Networks](#nn)\n",
    "    * [K-NN](#knn)\n",
    "    * [SVM](#svm)\n",
    "* [Training models with less data](#training2)\n",
    "    * [Decision Tree](#dt2)\n",
    "    * [Neural Networks](#nn2)\n",
    "    * [K-NN](#knn2)   \n",
    "* [(Extra) Cross Validation](#cv)\n"
   ]
  },
  {
   "cell_type": "code",
   "execution_count": 1,
   "metadata": {},
   "outputs": [],
   "source": [
    "%matplotlib inline\n",
    "\n",
    "import matplotlib.pyplot as plt\n",
    "import seaborn as sb\n",
    "import pandas as pd\n",
    "from sklearn.model_selection import train_test_split\n",
    "from sklearn.metrics import confusion_matrix\n",
    "from sklearn.metrics import f1_score\n",
    "from sklearn.metrics import accuracy_score\n",
    "from sklearn.metrics import roc_curve"
   ]
  },
  {
   "cell_type": "markdown",
   "metadata": {},
   "source": [
    "## Reading and analysing the data <a class=\"anchor\" id=\"analysis\"></a>"
   ]
  },
  {
   "cell_type": "code",
   "execution_count": 2,
   "metadata": {},
   "outputs": [
    {
     "data": {
      "text/html": [
       "<div>\n",
       "<style scoped>\n",
       "    .dataframe tbody tr th:only-of-type {\n",
       "        vertical-align: middle;\n",
       "    }\n",
       "\n",
       "    .dataframe tbody tr th {\n",
       "        vertical-align: top;\n",
       "    }\n",
       "\n",
       "    .dataframe thead th {\n",
       "        text-align: right;\n",
       "    }\n",
       "</style>\n",
       "<table border=\"1\" class=\"dataframe\">\n",
       "  <thead>\n",
       "    <tr style=\"text-align: right;\">\n",
       "      <th></th>\n",
       "      <th>distance_from_home</th>\n",
       "      <th>distance_from_last_transaction</th>\n",
       "      <th>ratio_to_median_purchase_price</th>\n",
       "      <th>repeat_retailer</th>\n",
       "      <th>used_chip</th>\n",
       "      <th>used_pin_number</th>\n",
       "      <th>online_order</th>\n",
       "      <th>fraud</th>\n",
       "    </tr>\n",
       "  </thead>\n",
       "  <tbody>\n",
       "    <tr>\n",
       "      <th>0</th>\n",
       "      <td>57.877857</td>\n",
       "      <td>0.311140</td>\n",
       "      <td>1.945940</td>\n",
       "      <td>1.0</td>\n",
       "      <td>1.0</td>\n",
       "      <td>0.0</td>\n",
       "      <td>0.0</td>\n",
       "      <td>0.0</td>\n",
       "    </tr>\n",
       "    <tr>\n",
       "      <th>1</th>\n",
       "      <td>10.829943</td>\n",
       "      <td>0.175592</td>\n",
       "      <td>1.294219</td>\n",
       "      <td>1.0</td>\n",
       "      <td>0.0</td>\n",
       "      <td>0.0</td>\n",
       "      <td>0.0</td>\n",
       "      <td>0.0</td>\n",
       "    </tr>\n",
       "    <tr>\n",
       "      <th>2</th>\n",
       "      <td>5.091079</td>\n",
       "      <td>0.805153</td>\n",
       "      <td>0.427715</td>\n",
       "      <td>1.0</td>\n",
       "      <td>0.0</td>\n",
       "      <td>0.0</td>\n",
       "      <td>1.0</td>\n",
       "      <td>0.0</td>\n",
       "    </tr>\n",
       "    <tr>\n",
       "      <th>3</th>\n",
       "      <td>2.247564</td>\n",
       "      <td>5.600044</td>\n",
       "      <td>0.362663</td>\n",
       "      <td>1.0</td>\n",
       "      <td>1.0</td>\n",
       "      <td>0.0</td>\n",
       "      <td>1.0</td>\n",
       "      <td>0.0</td>\n",
       "    </tr>\n",
       "    <tr>\n",
       "      <th>4</th>\n",
       "      <td>44.190936</td>\n",
       "      <td>0.566486</td>\n",
       "      <td>2.222767</td>\n",
       "      <td>1.0</td>\n",
       "      <td>1.0</td>\n",
       "      <td>0.0</td>\n",
       "      <td>1.0</td>\n",
       "      <td>0.0</td>\n",
       "    </tr>\n",
       "  </tbody>\n",
       "</table>\n",
       "</div>"
      ],
      "text/plain": [
       "   distance_from_home  distance_from_last_transaction  \\\n",
       "0           57.877857                        0.311140   \n",
       "1           10.829943                        0.175592   \n",
       "2            5.091079                        0.805153   \n",
       "3            2.247564                        5.600044   \n",
       "4           44.190936                        0.566486   \n",
       "\n",
       "   ratio_to_median_purchase_price  repeat_retailer  used_chip  \\\n",
       "0                        1.945940              1.0        1.0   \n",
       "1                        1.294219              1.0        0.0   \n",
       "2                        0.427715              1.0        0.0   \n",
       "3                        0.362663              1.0        1.0   \n",
       "4                        2.222767              1.0        1.0   \n",
       "\n",
       "   used_pin_number  online_order  fraud  \n",
       "0              0.0           0.0    0.0  \n",
       "1              0.0           0.0    0.0  \n",
       "2              0.0           1.0    0.0  \n",
       "3              0.0           1.0    0.0  \n",
       "4              0.0           1.0    0.0  "
      ]
     },
     "execution_count": 2,
     "metadata": {},
     "output_type": "execute_result"
    }
   ],
   "source": [
    "credit_card_data = pd.read_csv('card_transdata.csv', na_values=['NA'])\n",
    "credit_card_data.head()"
   ]
  },
  {
   "cell_type": "code",
   "execution_count": 3,
   "metadata": {},
   "outputs": [
    {
     "data": {
      "text/html": [
       "<div>\n",
       "<style scoped>\n",
       "    .dataframe tbody tr th:only-of-type {\n",
       "        vertical-align: middle;\n",
       "    }\n",
       "\n",
       "    .dataframe tbody tr th {\n",
       "        vertical-align: top;\n",
       "    }\n",
       "\n",
       "    .dataframe thead th {\n",
       "        text-align: right;\n",
       "    }\n",
       "</style>\n",
       "<table border=\"1\" class=\"dataframe\">\n",
       "  <thead>\n",
       "    <tr style=\"text-align: right;\">\n",
       "      <th></th>\n",
       "      <th>distance_from_home</th>\n",
       "      <th>distance_from_last_transaction</th>\n",
       "      <th>ratio_to_median_purchase_price</th>\n",
       "      <th>repeat_retailer</th>\n",
       "      <th>used_chip</th>\n",
       "      <th>used_pin_number</th>\n",
       "      <th>online_order</th>\n",
       "      <th>fraud</th>\n",
       "    </tr>\n",
       "  </thead>\n",
       "  <tbody>\n",
       "    <tr>\n",
       "      <th>count</th>\n",
       "      <td>1000000.000000</td>\n",
       "      <td>1000000.000000</td>\n",
       "      <td>1000000.000000</td>\n",
       "      <td>1000000.000000</td>\n",
       "      <td>1000000.000000</td>\n",
       "      <td>1000000.000000</td>\n",
       "      <td>1000000.000000</td>\n",
       "      <td>1000000.000000</td>\n",
       "    </tr>\n",
       "    <tr>\n",
       "      <th>mean</th>\n",
       "      <td>26.628792</td>\n",
       "      <td>5.036519</td>\n",
       "      <td>1.824182</td>\n",
       "      <td>0.881536</td>\n",
       "      <td>0.350399</td>\n",
       "      <td>0.100608</td>\n",
       "      <td>0.650552</td>\n",
       "      <td>0.087403</td>\n",
       "    </tr>\n",
       "    <tr>\n",
       "      <th>std</th>\n",
       "      <td>65.390784</td>\n",
       "      <td>25.843093</td>\n",
       "      <td>2.799589</td>\n",
       "      <td>0.323157</td>\n",
       "      <td>0.477095</td>\n",
       "      <td>0.300809</td>\n",
       "      <td>0.476796</td>\n",
       "      <td>0.282425</td>\n",
       "    </tr>\n",
       "    <tr>\n",
       "      <th>min</th>\n",
       "      <td>0.004874</td>\n",
       "      <td>0.000118</td>\n",
       "      <td>0.004399</td>\n",
       "      <td>0.000000</td>\n",
       "      <td>0.000000</td>\n",
       "      <td>0.000000</td>\n",
       "      <td>0.000000</td>\n",
       "      <td>0.000000</td>\n",
       "    </tr>\n",
       "    <tr>\n",
       "      <th>25%</th>\n",
       "      <td>3.878008</td>\n",
       "      <td>0.296671</td>\n",
       "      <td>0.475673</td>\n",
       "      <td>1.000000</td>\n",
       "      <td>0.000000</td>\n",
       "      <td>0.000000</td>\n",
       "      <td>0.000000</td>\n",
       "      <td>0.000000</td>\n",
       "    </tr>\n",
       "    <tr>\n",
       "      <th>50%</th>\n",
       "      <td>9.967760</td>\n",
       "      <td>0.998650</td>\n",
       "      <td>0.997717</td>\n",
       "      <td>1.000000</td>\n",
       "      <td>0.000000</td>\n",
       "      <td>0.000000</td>\n",
       "      <td>1.000000</td>\n",
       "      <td>0.000000</td>\n",
       "    </tr>\n",
       "    <tr>\n",
       "      <th>75%</th>\n",
       "      <td>25.743985</td>\n",
       "      <td>3.355748</td>\n",
       "      <td>2.096370</td>\n",
       "      <td>1.000000</td>\n",
       "      <td>1.000000</td>\n",
       "      <td>0.000000</td>\n",
       "      <td>1.000000</td>\n",
       "      <td>0.000000</td>\n",
       "    </tr>\n",
       "    <tr>\n",
       "      <th>max</th>\n",
       "      <td>10632.723672</td>\n",
       "      <td>11851.104565</td>\n",
       "      <td>267.802942</td>\n",
       "      <td>1.000000</td>\n",
       "      <td>1.000000</td>\n",
       "      <td>1.000000</td>\n",
       "      <td>1.000000</td>\n",
       "      <td>1.000000</td>\n",
       "    </tr>\n",
       "  </tbody>\n",
       "</table>\n",
       "</div>"
      ],
      "text/plain": [
       "       distance_from_home  distance_from_last_transaction  \\\n",
       "count      1000000.000000                  1000000.000000   \n",
       "mean            26.628792                        5.036519   \n",
       "std             65.390784                       25.843093   \n",
       "min              0.004874                        0.000118   \n",
       "25%              3.878008                        0.296671   \n",
       "50%              9.967760                        0.998650   \n",
       "75%             25.743985                        3.355748   \n",
       "max          10632.723672                    11851.104565   \n",
       "\n",
       "       ratio_to_median_purchase_price  repeat_retailer       used_chip  \\\n",
       "count                  1000000.000000   1000000.000000  1000000.000000   \n",
       "mean                         1.824182         0.881536        0.350399   \n",
       "std                          2.799589         0.323157        0.477095   \n",
       "min                          0.004399         0.000000        0.000000   \n",
       "25%                          0.475673         1.000000        0.000000   \n",
       "50%                          0.997717         1.000000        0.000000   \n",
       "75%                          2.096370         1.000000        1.000000   \n",
       "max                        267.802942         1.000000        1.000000   \n",
       "\n",
       "       used_pin_number    online_order           fraud  \n",
       "count   1000000.000000  1000000.000000  1000000.000000  \n",
       "mean          0.100608        0.650552        0.087403  \n",
       "std           0.300809        0.476796        0.282425  \n",
       "min           0.000000        0.000000        0.000000  \n",
       "25%           0.000000        0.000000        0.000000  \n",
       "50%           0.000000        1.000000        0.000000  \n",
       "75%           0.000000        1.000000        0.000000  \n",
       "max           1.000000        1.000000        1.000000  "
      ]
     },
     "execution_count": 3,
     "metadata": {},
     "output_type": "execute_result"
    }
   ],
   "source": [
    "credit_card_data.describe()"
   ]
  },
  {
   "cell_type": "code",
   "execution_count": 4,
   "metadata": {},
   "outputs": [
    {
     "data": {
      "text/plain": [
       "Text(0, 0.5, 'Frequency')"
      ]
     },
     "execution_count": 4,
     "metadata": {},
     "output_type": "execute_result"
    },
    {
     "data": {
      "image/png": "[encoded data removed]",
      "text/plain": [
       "<Figure size 432x288 with 1 Axes>"
      ]
     },
     "metadata": {
      "needs_background": "light"
     },
     "output_type": "display_data"
    }
   ],
   "source": [
    "count_frauds = pd.value_counts(credit_card_data['fraud'], sort = True)\n",
    "\n",
    "count_frauds.plot(kind = 'bar', rot=0)\n",
    "\n",
    "plt.title(\"Transaction Class Distribution\")\n",
    "\n",
    "LABELS = [\"Normal\", \"Fraud\"]\n",
    "\n",
    "plt.xticks(range(2), LABELS)\n",
    "\n",
    "plt.xlabel(\"Fraud\")\n",
    "\n",
    "plt.ylabel(\"Frequency\")"
   ]
  },
  {
   "cell_type": "code",
   "execution_count": 5,
   "metadata": {},
   "outputs": [
    {
     "name": "stdout",
     "output_type": "stream",
     "text": [
      "(912597, 8) (87403, 8)\n"
     ]
    }
   ],
   "source": [
    "fraud = credit_card_data[credit_card_data['fraud']==1]\n",
    "\n",
    "normal = credit_card_data[credit_card_data['fraud']==0]\n",
    "\n",
    "print(normal.shape, fraud.shape)"
   ]
  },
  {
   "cell_type": "code",
   "execution_count": 6,
   "metadata": {},
   "outputs": [
    {
     "data": {
      "text/html": [
       "<div>\n",
       "<style scoped>\n",
       "    .dataframe tbody tr th:only-of-type {\n",
       "        vertical-align: middle;\n",
       "    }\n",
       "\n",
       "    .dataframe tbody tr th {\n",
       "        vertical-align: top;\n",
       "    }\n",
       "\n",
       "    .dataframe thead th {\n",
       "        text-align: right;\n",
       "    }\n",
       "</style>\n",
       "<table border=\"1\" class=\"dataframe\">\n",
       "  <thead>\n",
       "    <tr style=\"text-align: right;\">\n",
       "      <th></th>\n",
       "      <th>distance_from_home</th>\n",
       "      <th>distance_from_last_transaction</th>\n",
       "      <th>ratio_to_median_purchase_price</th>\n",
       "      <th>repeat_retailer</th>\n",
       "      <th>used_chip</th>\n",
       "      <th>used_pin_number</th>\n",
       "      <th>online_order</th>\n",
       "      <th>fraud</th>\n",
       "    </tr>\n",
       "  </thead>\n",
       "  <tbody>\n",
       "    <tr>\n",
       "      <th>count</th>\n",
       "      <td>87403.000000</td>\n",
       "      <td>87403.000000</td>\n",
       "      <td>87403.000000</td>\n",
       "      <td>87403.000000</td>\n",
       "      <td>87403.000000</td>\n",
       "      <td>87403.000000</td>\n",
       "      <td>87403.000000</td>\n",
       "      <td>87403.0</td>\n",
       "    </tr>\n",
       "    <tr>\n",
       "      <th>mean</th>\n",
       "      <td>66.261876</td>\n",
       "      <td>12.712185</td>\n",
       "      <td>6.006323</td>\n",
       "      <td>0.880119</td>\n",
       "      <td>0.256399</td>\n",
       "      <td>0.003123</td>\n",
       "      <td>0.946318</td>\n",
       "      <td>1.0</td>\n",
       "    </tr>\n",
       "    <tr>\n",
       "      <th>std</th>\n",
       "      <td>134.391608</td>\n",
       "      <td>47.997697</td>\n",
       "      <td>5.564320</td>\n",
       "      <td>0.324825</td>\n",
       "      <td>0.436647</td>\n",
       "      <td>0.055801</td>\n",
       "      <td>0.225391</td>\n",
       "      <td>0.0</td>\n",
       "    </tr>\n",
       "    <tr>\n",
       "      <th>min</th>\n",
       "      <td>0.025847</td>\n",
       "      <td>0.000407</td>\n",
       "      <td>0.011966</td>\n",
       "      <td>0.000000</td>\n",
       "      <td>0.000000</td>\n",
       "      <td>0.000000</td>\n",
       "      <td>0.000000</td>\n",
       "      <td>1.0</td>\n",
       "    </tr>\n",
       "    <tr>\n",
       "      <th>25%</th>\n",
       "      <td>4.585729</td>\n",
       "      <td>0.328199</td>\n",
       "      <td>3.500270</td>\n",
       "      <td>1.000000</td>\n",
       "      <td>0.000000</td>\n",
       "      <td>0.000000</td>\n",
       "      <td>1.000000</td>\n",
       "      <td>1.0</td>\n",
       "    </tr>\n",
       "    <tr>\n",
       "      <th>50%</th>\n",
       "      <td>15.454219</td>\n",
       "      <td>1.157631</td>\n",
       "      <td>5.071294</td>\n",
       "      <td>1.000000</td>\n",
       "      <td>0.000000</td>\n",
       "      <td>0.000000</td>\n",
       "      <td>1.000000</td>\n",
       "      <td>1.0</td>\n",
       "    </tr>\n",
       "    <tr>\n",
       "      <th>75%</th>\n",
       "      <td>101.110104</td>\n",
       "      <td>4.598504</td>\n",
       "      <td>7.331222</td>\n",
       "      <td>1.000000</td>\n",
       "      <td>1.000000</td>\n",
       "      <td>0.000000</td>\n",
       "      <td>1.000000</td>\n",
       "      <td>1.0</td>\n",
       "    </tr>\n",
       "    <tr>\n",
       "      <th>max</th>\n",
       "      <td>10632.723672</td>\n",
       "      <td>2160.499922</td>\n",
       "      <td>266.689692</td>\n",
       "      <td>1.000000</td>\n",
       "      <td>1.000000</td>\n",
       "      <td>1.000000</td>\n",
       "      <td>1.000000</td>\n",
       "      <td>1.0</td>\n",
       "    </tr>\n",
       "  </tbody>\n",
       "</table>\n",
       "</div>"
      ],
      "text/plain": [
       "       distance_from_home  distance_from_last_transaction  \\\n",
       "count        87403.000000                    87403.000000   \n",
       "mean            66.261876                       12.712185   \n",
       "std            134.391608                       47.997697   \n",
       "min              0.025847                        0.000407   \n",
       "25%              4.585729                        0.328199   \n",
       "50%             15.454219                        1.157631   \n",
       "75%            101.110104                        4.598504   \n",
       "max          10632.723672                     2160.499922   \n",
       "\n",
       "       ratio_to_median_purchase_price  repeat_retailer     used_chip  \\\n",
       "count                    87403.000000     87403.000000  87403.000000   \n",
       "mean                         6.006323         0.880119      0.256399   \n",
       "std                          5.564320         0.324825      0.436647   \n",
       "min                          0.011966         0.000000      0.000000   \n",
       "25%                          3.500270         1.000000      0.000000   \n",
       "50%                          5.071294         1.000000      0.000000   \n",
       "75%                          7.331222         1.000000      1.000000   \n",
       "max                        266.689692         1.000000      1.000000   \n",
       "\n",
       "       used_pin_number  online_order    fraud  \n",
       "count     87403.000000  87403.000000  87403.0  \n",
       "mean          0.003123      0.946318      1.0  \n",
       "std           0.055801      0.225391      0.0  \n",
       "min           0.000000      0.000000      1.0  \n",
       "25%           0.000000      1.000000      1.0  \n",
       "50%           0.000000      1.000000      1.0  \n",
       "75%           0.000000      1.000000      1.0  \n",
       "max           1.000000      1.000000      1.0  "
      ]
     },
     "execution_count": 6,
     "metadata": {},
     "output_type": "execute_result"
    }
   ],
   "source": [
    "fraud.describe()"
   ]
  },
  {
   "cell_type": "code",
   "execution_count": 7,
   "metadata": {},
   "outputs": [
    {
     "data": {
      "text/html": [
       "<div>\n",
       "<style scoped>\n",
       "    .dataframe tbody tr th:only-of-type {\n",
       "        vertical-align: middle;\n",
       "    }\n",
       "\n",
       "    .dataframe tbody tr th {\n",
       "        vertical-align: top;\n",
       "    }\n",
       "\n",
       "    .dataframe thead th {\n",
       "        text-align: right;\n",
       "    }\n",
       "</style>\n",
       "<table border=\"1\" class=\"dataframe\">\n",
       "  <thead>\n",
       "    <tr style=\"text-align: right;\">\n",
       "      <th></th>\n",
       "      <th>distance_from_home</th>\n",
       "      <th>distance_from_last_transaction</th>\n",
       "      <th>ratio_to_median_purchase_price</th>\n",
       "      <th>repeat_retailer</th>\n",
       "      <th>used_chip</th>\n",
       "      <th>used_pin_number</th>\n",
       "      <th>online_order</th>\n",
       "      <th>fraud</th>\n",
       "    </tr>\n",
       "  </thead>\n",
       "  <tbody>\n",
       "    <tr>\n",
       "      <th>count</th>\n",
       "      <td>912597.000000</td>\n",
       "      <td>912597.000000</td>\n",
       "      <td>912597.000000</td>\n",
       "      <td>912597.000000</td>\n",
       "      <td>912597.000000</td>\n",
       "      <td>912597.000000</td>\n",
       "      <td>912597.000000</td>\n",
       "      <td>912597.0</td>\n",
       "    </tr>\n",
       "    <tr>\n",
       "      <th>mean</th>\n",
       "      <td>22.832976</td>\n",
       "      <td>4.301391</td>\n",
       "      <td>1.423642</td>\n",
       "      <td>0.881672</td>\n",
       "      <td>0.359402</td>\n",
       "      <td>0.109944</td>\n",
       "      <td>0.622225</td>\n",
       "      <td>0.0</td>\n",
       "    </tr>\n",
       "    <tr>\n",
       "      <th>std</th>\n",
       "      <td>52.828655</td>\n",
       "      <td>22.472359</td>\n",
       "      <td>1.946152</td>\n",
       "      <td>0.322997</td>\n",
       "      <td>0.479825</td>\n",
       "      <td>0.312821</td>\n",
       "      <td>0.484831</td>\n",
       "      <td>0.0</td>\n",
       "    </tr>\n",
       "    <tr>\n",
       "      <th>min</th>\n",
       "      <td>0.004874</td>\n",
       "      <td>0.000118</td>\n",
       "      <td>0.004399</td>\n",
       "      <td>0.000000</td>\n",
       "      <td>0.000000</td>\n",
       "      <td>0.000000</td>\n",
       "      <td>0.000000</td>\n",
       "      <td>0.0</td>\n",
       "    </tr>\n",
       "    <tr>\n",
       "      <th>25%</th>\n",
       "      <td>3.828942</td>\n",
       "      <td>0.293859</td>\n",
       "      <td>0.449768</td>\n",
       "      <td>1.000000</td>\n",
       "      <td>0.000000</td>\n",
       "      <td>0.000000</td>\n",
       "      <td>0.000000</td>\n",
       "      <td>0.0</td>\n",
       "    </tr>\n",
       "    <tr>\n",
       "      <th>50%</th>\n",
       "      <td>9.673847</td>\n",
       "      <td>0.985074</td>\n",
       "      <td>0.913950</td>\n",
       "      <td>1.000000</td>\n",
       "      <td>0.000000</td>\n",
       "      <td>0.000000</td>\n",
       "      <td>1.000000</td>\n",
       "      <td>0.0</td>\n",
       "    </tr>\n",
       "    <tr>\n",
       "      <th>75%</th>\n",
       "      <td>24.158057</td>\n",
       "      <td>3.268578</td>\n",
       "      <td>1.788918</td>\n",
       "      <td>1.000000</td>\n",
       "      <td>1.000000</td>\n",
       "      <td>0.000000</td>\n",
       "      <td>1.000000</td>\n",
       "      <td>0.0</td>\n",
       "    </tr>\n",
       "    <tr>\n",
       "      <th>max</th>\n",
       "      <td>8777.136420</td>\n",
       "      <td>11851.104565</td>\n",
       "      <td>267.802942</td>\n",
       "      <td>1.000000</td>\n",
       "      <td>1.000000</td>\n",
       "      <td>1.000000</td>\n",
       "      <td>1.000000</td>\n",
       "      <td>0.0</td>\n",
       "    </tr>\n",
       "  </tbody>\n",
       "</table>\n",
       "</div>"
      ],
      "text/plain": [
       "       distance_from_home  distance_from_last_transaction  \\\n",
       "count       912597.000000                   912597.000000   \n",
       "mean            22.832976                        4.301391   \n",
       "std             52.828655                       22.472359   \n",
       "min              0.004874                        0.000118   \n",
       "25%              3.828942                        0.293859   \n",
       "50%              9.673847                        0.985074   \n",
       "75%             24.158057                        3.268578   \n",
       "max           8777.136420                    11851.104565   \n",
       "\n",
       "       ratio_to_median_purchase_price  repeat_retailer      used_chip  \\\n",
       "count                   912597.000000    912597.000000  912597.000000   \n",
       "mean                         1.423642         0.881672       0.359402   \n",
       "std                          1.946152         0.322997       0.479825   \n",
       "min                          0.004399         0.000000       0.000000   \n",
       "25%                          0.449768         1.000000       0.000000   \n",
       "50%                          0.913950         1.000000       0.000000   \n",
       "75%                          1.788918         1.000000       1.000000   \n",
       "max                        267.802942         1.000000       1.000000   \n",
       "\n",
       "       used_pin_number   online_order     fraud  \n",
       "count    912597.000000  912597.000000  912597.0  \n",
       "mean          0.109944       0.622225       0.0  \n",
       "std           0.312821       0.484831       0.0  \n",
       "min           0.000000       0.000000       0.0  \n",
       "25%           0.000000       0.000000       0.0  \n",
       "50%           0.000000       1.000000       0.0  \n",
       "75%           0.000000       1.000000       0.0  \n",
       "max           1.000000       1.000000       0.0  "
      ]
     },
     "execution_count": 7,
     "metadata": {},
     "output_type": "execute_result"
    }
   ],
   "source": [
    "normal.describe()"
   ]
  },
  {
   "cell_type": "markdown",
   "metadata": {},
   "source": [
    "### Create smaller dataset <a class=\"anchor\" id=\"smaller\"></a>"
   ]
  },
  {
   "cell_type": "code",
   "execution_count": 8,
   "metadata": {},
   "outputs": [
    {
     "data": {
      "text/plain": [
       "(100000, 8)"
      ]
     },
     "execution_count": 8,
     "metadata": {},
     "output_type": "execute_result"
    }
   ],
   "source": [
    "training_data = credit_card_data.sample(frac = 0.1,random_state=1)\n",
    "\n",
    "training_data.shape"
   ]
  },
  {
   "cell_type": "code",
   "execution_count": 9,
   "metadata": {},
   "outputs": [
    {
     "name": "stdout",
     "output_type": "stream",
     "text": [
      "0.09674376775353974\n",
      "Fraud Cases : 8821\n",
      "Valid Cases : 91179\n"
     ]
    }
   ],
   "source": [
    "fraud = training_data[training_data['fraud']==1]\n",
    "\n",
    "valid = training_data[training_data['fraud']==0]\n",
    "\n",
    "outlier_fraction = len(fraud)/float(len(valid))\n",
    "\n",
    "print(outlier_fraction)\n",
    "\n",
    "print(\"Fraud Cases : {}\".format(len(fraud)))\n",
    "\n",
    "print(\"Valid Cases : {}\".format(len(valid)))"
   ]
  },
  {
   "cell_type": "code",
   "execution_count": 10,
   "metadata": {},
   "outputs": [
    {
     "data": {
      "image/png": "[encoded data removed]",
      "text/plain": [
       "<Figure size 1080x1080 with 2 Axes>"
      ]
     },
     "metadata": {
      "needs_background": "light"
     },
     "output_type": "display_data"
    }
   ],
   "source": [
    "correlation_matrix = training_data.corr()\n",
    "\n",
    "top_corr_features = correlation_matrix.index\n",
    "\n",
    "plt.figure(figsize=(15,15))\n",
    "#plot heat map\n",
    "g=sb.heatmap(training_data[top_corr_features].corr(),annot=True)\n",
    "\n"
   ]
  },
  {
   "cell_type": "markdown",
   "metadata": {},
   "source": [
    "## Preparing the data <a class=\"anchor\" id=\"preparing\"></a>"
   ]
  },
  {
   "cell_type": "code",
   "execution_count": 11,
   "metadata": {},
   "outputs": [
    {
     "name": "stdout",
     "output_type": "stream",
     "text": [
      "(1000000, 7) (1000000,)\n",
      "(1000000, 4) (1000000,)\n"
     ]
    }
   ],
   "source": [
    "columns = list(training_data.columns.values)\n",
    "\n",
    "# filter the columns (remove the labels)\n",
    "columns = [c for c in columns if c not in [\"fraud\"]]\n",
    "\n",
    "X = credit_card_data[columns]\n",
    "\n",
    "X_positive_corr = credit_card_data[[\"distance_from_home\", \"distance_from_last_transaction\", \"ratio_to_median_purchase_price\", \"online_order\"]]\n",
    "\n",
    "Y = credit_card_data[\"fraud\"]\n",
    "\n",
    "print(X.shape, Y.shape)\n",
    "\n",
    "print(X_positive_corr.shape, Y.shape)"
   ]
  },
  {
   "cell_type": "code",
   "execution_count": 12,
   "metadata": {},
   "outputs": [
    {
     "name": "stdout",
     "output_type": "stream",
     "text": [
      "(250000, 7) (750000, 7)\n"
     ]
    }
   ],
   "source": [
    "(X_train,\n",
    " X_test,\n",
    " y_train,\n",
    " y_test) = train_test_split(X, Y, test_size=0.75, random_state=1)\n",
    "\n",
    "print(X_train.shape, X_test.shape)\n",
    "\n",
    "(X_corr_train,\n",
    " X_corr_test,\n",
    " y_corr_train,\n",
    " y_corr_test) = train_test_split(X_positive_corr, Y, test_size=0.75, random_state=1)"
   ]
  },
  {
   "cell_type": "markdown",
   "metadata": {},
   "source": [
    "Under sample"
   ]
  },
  {
   "cell_type": "code",
   "execution_count": 13,
   "metadata": {},
   "outputs": [
    {
     "name": "stdout",
     "output_type": "stream",
     "text": [
      "New number of fraud cases is (21853,) and number of valid cases is (21853,)\n",
      "Old number of fraud cases is (21853,) and number of valid cases is (228147,)\n"
     ]
    }
   ],
   "source": [
    "from imblearn.under_sampling import RandomUnderSampler\n",
    "\n",
    "under_sampler = RandomUnderSampler()\n",
    "X_res, y_res = under_sampler.fit_resample(X_train, y_train)\n",
    "\n",
    "new_fraud = y_res[y_res==1]\n",
    "\n",
    "new_valid = y_res[y_res==0]\n",
    "\n",
    "old_fraud = y_train[y_train==1]\n",
    "\n",
    "old_valid = y_train[y_train==0]\n",
    "\n",
    "print(\"New number of fraud cases is\" , new_fraud.shape, \"and number of valid cases is\", new_valid.shape)\n",
    "print(\"Old number of fraud cases is\" , old_fraud.shape, \"and number of valid cases is\", old_valid.shape)\n",
    "\n"
   ]
  },
  {
   "cell_type": "markdown",
   "metadata": {},
   "source": [
    "## Training models <a class=\"anchor\" id=\"training\"></a>\n",
    "We will use the follwing:\n",
    "- Decision Tree\n",
    "- Neural Networks\n",
    "- K-NN"
   ]
  },
  {
   "cell_type": "markdown",
   "metadata": {},
   "source": [
    "### Decision Tree <a class=\"anchor\" id=\"dt\"></a>"
   ]
  },
  {
   "cell_type": "code",
   "execution_count": 14,
   "metadata": {},
   "outputs": [],
   "source": [
    "from sklearn.tree import DecisionTreeClassifier\n",
    "# Create the classifier\n",
    "decision_tree_classifier = DecisionTreeClassifier()"
   ]
  },
  {
   "cell_type": "markdown",
   "metadata": {},
   "source": [
    "#### Balanced Dataset"
   ]
  },
  {
   "cell_type": "code",
   "execution_count": 15,
   "metadata": {},
   "outputs": [],
   "source": [
    "# Train the classifier on the training set\n",
    "decision_tree_classifier.fit(X_res, y_res)\n",
    "\n",
    "y_pred = decision_tree_classifier.predict(X_test)"
   ]
  },
  {
   "cell_type": "code",
   "execution_count": 16,
   "metadata": {},
   "outputs": [
    {
     "name": "stdout",
     "output_type": "stream",
     "text": [
      "Confusion matrix:\n",
      " [[684264    186]\n",
      " [     7  65543]]\n",
      "F1: 0.9985298486429665\n",
      "Accuracy: 0.9997426666666667\n"
     ]
    }
   ],
   "source": [
    "print(\"Confusion matrix:\\n\", confusion_matrix(y_test, y_pred))\n",
    "\n",
    "print(\"F1:\", f1_score(y_test, y_pred))\n",
    "\n",
    "print(\"Accuracy:\", accuracy_score(y_test, y_pred))\n",
    "\n"
   ]
  },
  {
   "cell_type": "markdown",
   "metadata": {},
   "source": [
    "#### Imbalanced Dataset"
   ]
  },
  {
   "cell_type": "markdown",
   "metadata": {},
   "source": [
    "- All attributes"
   ]
  },
  {
   "cell_type": "code",
   "execution_count": 17,
   "metadata": {},
   "outputs": [],
   "source": [
    "decision_tree_classifier.fit(X_train, y_train)\n",
    "\n",
    "y_pred = decision_tree_classifier.predict(X_test)"
   ]
  },
  {
   "cell_type": "code",
   "execution_count": 18,
   "metadata": {},
   "outputs": [
    {
     "name": "stdout",
     "output_type": "stream",
     "text": [
      "Confusion matrix:\n",
      " [[684436     14]\n",
      " [    28  65522]]\n",
      "F1: 0.9996795996521368\n",
      "Accuracy: 0.999944\n"
     ]
    }
   ],
   "source": [
    "print(\"Confusion matrix:\\n\", confusion_matrix(y_test, y_pred))\n",
    "\n",
    "print(\"F1:\", f1_score(y_test, y_pred))\n",
    "\n",
    "print(\"Accuracy:\", accuracy_score(y_test, y_pred))"
   ]
  },
  {
   "cell_type": "markdown",
   "metadata": {},
   "source": [
    "- Positive correlation attributes"
   ]
  },
  {
   "cell_type": "code",
   "execution_count": 19,
   "metadata": {},
   "outputs": [],
   "source": [
    "decision_tree_classifier.fit(X_corr_train, y_corr_train)\n",
    "\n",
    "y_corr_pred = decision_tree_classifier.predict(X_corr_test)"
   ]
  },
  {
   "cell_type": "code",
   "execution_count": 20,
   "metadata": {},
   "outputs": [
    {
     "name": "stdout",
     "output_type": "stream",
     "text": [
      "Confusion matrix:\n",
      " [[672484  11966]\n",
      " [ 12418  53132]]\n",
      "F1: 0.8133610924009552\n",
      "Accuracy: 0.967488\n"
     ]
    }
   ],
   "source": [
    "print(\"Confusion matrix:\\n\", confusion_matrix(y_corr_test, y_corr_pred))\n",
    "\n",
    "print(\"F1:\", f1_score(y_corr_test, y_corr_pred))\n",
    "\n",
    "print(\"Accuracy:\", accuracy_score(y_corr_test, y_corr_pred))"
   ]
  },
  {
   "cell_type": "markdown",
   "metadata": {},
   "source": [
    "#### Roc Curve"
   ]
  },
  {
   "cell_type": "code",
   "execution_count": 21,
   "metadata": {},
   "outputs": [
    {
     "data": {
      "image/png": "[encoded data removed]",
      "text/plain": [
       "<Figure size 432x288 with 1 Axes>"
      ]
     },
     "metadata": {
      "needs_background": "light"
     },
     "output_type": "display_data"
    }
   ],
   "source": [
    "fpr, tpr, _ = roc_curve(y_test,  y_pred)\n",
    "\n",
    "plt.plot(fpr,tpr)\n",
    "plt.ylabel('True Positive Rate')\n",
    "plt.xlabel('False Positive Rate')\n",
    "plt.show()"
   ]
  },
  {
   "cell_type": "markdown",
   "metadata": {},
   "source": [
    "### Neural Networks <a class=\"anchor\" id=\"nn\"></a>"
   ]
  },
  {
   "cell_type": "code",
   "execution_count": 22,
   "metadata": {},
   "outputs": [],
   "source": [
    "from sklearn.neural_network import MLPClassifier\n",
    "from sklearn.neural_network import MLPRegressor\n",
    "\n",
    "#mlp = MLPClassifier(hidden_layer_sizes=(8,8,8), activation='relu', solver='adam', max_iter=100)\n",
    "#mlp = MLPClassifier(hidden_layer_sizes=(100,15), activation='relu', solver='adam', max_iter=200)\n",
    "#mlp = MLPClassifier(hidden_layer_sizes=(8,8), activation='relu', solver='adam', max_iter=200)\n",
    "#mlp = MLPClassifier(hidden_layer_sizes=(4,4,4), activation='relu', solver='adam', max_iter=200)\n",
    "mlp = MLPClassifier(hidden_layer_sizes=(20,20), activation='relu', solver='adam', max_iter=200)"
   ]
  },
  {
   "cell_type": "markdown",
   "metadata": {},
   "source": [
    "#### Balanced Dataset"
   ]
  },
  {
   "cell_type": "code",
   "execution_count": 23,
   "metadata": {},
   "outputs": [],
   "source": [
    "mlp.fit(X_res,y_res)\n",
    "\n",
    "y_pred = mlp.predict(X_test)"
   ]
  },
  {
   "cell_type": "code",
   "execution_count": 24,
   "metadata": {},
   "outputs": [
    {
     "name": "stdout",
     "output_type": "stream",
     "text": [
      "Confusion matrix:\n",
      " [[674372  10078]\n",
      " [   110  65440]]\n",
      "F1: 0.927779510590637\n",
      "Accuracy: 0.986416\n"
     ]
    }
   ],
   "source": [
    "print(\"Confusion matrix:\\n\", confusion_matrix(y_test, y_pred))\n",
    "\n",
    "print(\"F1:\", f1_score(y_test, y_pred))\n",
    "\n",
    "print(\"Accuracy:\", accuracy_score(y_test, y_pred))"
   ]
  },
  {
   "cell_type": "markdown",
   "metadata": {},
   "source": [
    "#### Imbalanced Dataset"
   ]
  },
  {
   "cell_type": "markdown",
   "metadata": {},
   "source": [
    "- All attributes"
   ]
  },
  {
   "cell_type": "code",
   "execution_count": 25,
   "metadata": {},
   "outputs": [],
   "source": [
    "mlp.fit(X_train,y_train)\n",
    "\n",
    "y_pred = mlp.predict(X_test)"
   ]
  },
  {
   "cell_type": "code",
   "execution_count": 26,
   "metadata": {},
   "outputs": [
    {
     "name": "stdout",
     "output_type": "stream",
     "text": [
      "Confusion matrix:\n",
      " [[683795    655]\n",
      " [   977  64573]]\n",
      "F1: 0.9875208368380003\n",
      "Accuracy: 0.997824\n"
     ]
    }
   ],
   "source": [
    "print(\"Confusion matrix:\\n\", confusion_matrix(y_test, y_pred))\n",
    "\n",
    "print(\"F1:\", f1_score(y_test, y_pred))\n",
    "\n",
    "print(\"Accuracy:\", accuracy_score(y_test, y_pred))"
   ]
  },
  {
   "cell_type": "markdown",
   "metadata": {},
   "source": [
    "- Positive correlation attributes"
   ]
  },
  {
   "cell_type": "code",
   "execution_count": 27,
   "metadata": {},
   "outputs": [],
   "source": [
    "mlp.fit(X_corr_train,y_corr_train)\n",
    "\n",
    "y_corr_pred = mlp.predict(X_corr_test)"
   ]
  },
  {
   "cell_type": "code",
   "execution_count": 28,
   "metadata": {},
   "outputs": [
    {
     "name": "stdout",
     "output_type": "stream",
     "text": [
      "Confusion matrix:\n",
      " [[669146  15304]\n",
      " [  4161  61389]]\n",
      "F1: 0.8631567106992962\n",
      "Accuracy: 0.9740466666666666\n"
     ]
    }
   ],
   "source": [
    "print(\"Confusion matrix:\\n\", confusion_matrix(y_corr_test, y_corr_pred))\n",
    "\n",
    "print(\"F1:\", f1_score(y_corr_test, y_corr_pred))\n",
    "\n",
    "print(\"Accuracy:\", accuracy_score(y_corr_test, y_corr_pred))"
   ]
  },
  {
   "cell_type": "markdown",
   "metadata": {},
   "source": [
    "#### Roc Curve"
   ]
  },
  {
   "cell_type": "code",
   "execution_count": 29,
   "metadata": {},
   "outputs": [
    {
     "data": {
      "image/png": "[encoded data removed]",
      "text/plain": [
       "<Figure size 432x288 with 1 Axes>"
      ]
     },
     "metadata": {
      "needs_background": "light"
     },
     "output_type": "display_data"
    }
   ],
   "source": [
    "fpr, tpr, _ = roc_curve(y_test,  y_pred)\n",
    "\n",
    "plt.plot(fpr,tpr)\n",
    "plt.ylabel('True Positive Rate')\n",
    "plt.xlabel('False Positive Rate')\n",
    "plt.show()"
   ]
  },
  {
   "cell_type": "markdown",
   "metadata": {},
   "source": [
    "## K-NN <a class=\"anchor\" id=\"knn\"></a>"
   ]
  },
  {
   "cell_type": "code",
   "execution_count": 30,
   "metadata": {},
   "outputs": [],
   "source": [
    "from sklearn.neighbors import KNeighborsClassifier\n",
    "\n",
    "knn = KNeighborsClassifier(n_neighbors=3)"
   ]
  },
  {
   "cell_type": "markdown",
   "metadata": {},
   "source": [
    "#### Balanced Dataset"
   ]
  },
  {
   "cell_type": "code",
   "execution_count": 31,
   "metadata": {},
   "outputs": [],
   "source": [
    "knn.fit(X_res, y_res)\n",
    "\n",
    "y_pred = knn.predict(X_test)"
   ]
  },
  {
   "cell_type": "code",
   "execution_count": 32,
   "metadata": {},
   "outputs": [
    {
     "name": "stdout",
     "output_type": "stream",
     "text": [
      "Confusion matrix:\n",
      " [[633849  50601]\n",
      " [   516  65034]]\n",
      "F1: 0.7178739961917378\n",
      "Accuracy: 0.931844\n"
     ]
    }
   ],
   "source": [
    "print(\"Confusion matrix:\\n\", confusion_matrix(y_test, y_pred))\n",
    "\n",
    "print(\"F1:\", f1_score(y_test, y_pred))\n",
    "\n",
    "print(\"Accuracy:\", accuracy_score(y_test, y_pred))"
   ]
  },
  {
   "cell_type": "markdown",
   "metadata": {},
   "source": [
    "#### Imbalanced Dataset"
   ]
  },
  {
   "cell_type": "markdown",
   "metadata": {},
   "source": [
    "- All attributes"
   ]
  },
  {
   "cell_type": "code",
   "execution_count": 33,
   "metadata": {},
   "outputs": [],
   "source": [
    "knn.fit(X_train, y_train)\n",
    "\n",
    "y_pred = knn.predict(X_test)"
   ]
  },
  {
   "cell_type": "code",
   "execution_count": 34,
   "metadata": {},
   "outputs": [
    {
     "name": "stdout",
     "output_type": "stream",
     "text": [
      "Confusion matrix:\n",
      " [[674270  10180]\n",
      " [  7298  58252]]\n",
      "F1: 0.8695496409965517\n",
      "Accuracy: 0.976696\n"
     ]
    }
   ],
   "source": [
    "print(\"Confusion matrix:\\n\", confusion_matrix(y_test, y_pred))\n",
    "\n",
    "print(\"F1:\", f1_score(y_test, y_pred))\n",
    "\n",
    "print(\"Accuracy:\", accuracy_score(y_test, y_pred))"
   ]
  },
  {
   "cell_type": "markdown",
   "metadata": {},
   "source": [
    "- Positive correlation attributes"
   ]
  },
  {
   "cell_type": "code",
   "execution_count": 35,
   "metadata": {},
   "outputs": [],
   "source": [
    "knn.fit(X_corr_train, y_corr_train)\n",
    "\n",
    "y_corr_pred = knn.predict(X_corr_test)"
   ]
  },
  {
   "cell_type": "code",
   "execution_count": 36,
   "metadata": {},
   "outputs": [
    {
     "name": "stdout",
     "output_type": "stream",
     "text": [
      "Confusion matrix:\n",
      " [[668637  15813]\n",
      " [ 12868  52682]]\n",
      "F1: 0.7860345406393374\n",
      "Accuracy: 0.9617586666666667\n"
     ]
    }
   ],
   "source": [
    "print(\"Confusion matrix:\\n\", confusion_matrix(y_corr_test, y_corr_pred))\n",
    "\n",
    "print(\"F1:\", f1_score(y_corr_test, y_corr_pred))\n",
    "\n",
    "print(\"Accuracy:\", accuracy_score(y_corr_test, y_corr_pred))"
   ]
  },
  {
   "cell_type": "markdown",
   "metadata": {},
   "source": [
    "### SVM <a class=\"anchor\" id=\"svm\"></a>"
   ]
  },
  {
   "cell_type": "markdown",
   "metadata": {},
   "source": [
    "Preparing the data again, this time for a smaller Dataset"
   ]
  },
  {
   "cell_type": "code",
   "execution_count": 37,
   "metadata": {},
   "outputs": [
    {
     "name": "stdout",
     "output_type": "stream",
     "text": [
      "New number of fraud cases is (871,) and number of valid cases is (871,)\n",
      "Old number of fraud cases is (871,) and number of valid cases is (9129,)\n"
     ]
    }
   ],
   "source": [
    "(X_train,\n",
    " X_test,\n",
    " y_train,\n",
    " y_test) = train_test_split(X, Y, test_size=0.99, random_state=1)\n",
    "\n",
    "(X_corr_train,\n",
    " X_corr_test,\n",
    " y_corr_train,\n",
    " y_corr_test) = train_test_split(X_positive_corr, Y, test_size=0.99, random_state=1)\n",
    "\n",
    "\n",
    "from imblearn.under_sampling import RandomUnderSampler\n",
    "\n",
    "under_sampler = RandomUnderSampler()\n",
    "X_res, y_res = under_sampler.fit_resample(X_train, y_train)\n",
    "\n",
    "new_fraud = y_res[y_res==1]\n",
    "\n",
    "new_valid = y_res[y_res==0]\n",
    "\n",
    "old_fraud = y_train[y_train==1]\n",
    "\n",
    "old_valid = y_train[y_train==0]\n",
    "\n",
    "print(\"New number of fraud cases is\" , new_fraud.shape, \"and number of valid cases is\", new_valid.shape)\n",
    "print(\"Old number of fraud cases is\" , old_fraud.shape, \"and number of valid cases is\", old_valid.shape)"
   ]
  },
  {
   "cell_type": "code",
   "execution_count": 38,
   "metadata": {},
   "outputs": [],
   "source": [
    "from sklearn import svm\n",
    "\n",
    "clf = svm.SVC(kernel='linear')"
   ]
  },
  {
   "cell_type": "markdown",
   "metadata": {},
   "source": [
    "#### Balanced Dataset"
   ]
  },
  {
   "cell_type": "code",
   "execution_count": 39,
   "metadata": {},
   "outputs": [],
   "source": [
    "clf.fit(X_res, y_res)\n",
    "\n",
    "y_pred = clf.predict(X_test)"
   ]
  },
  {
   "cell_type": "code",
   "execution_count": 40,
   "metadata": {},
   "outputs": [
    {
     "name": "stdout",
     "output_type": "stream",
     "text": [
      "Confusion matrix:\n",
      " [[831992  71476]\n",
      " [  5775  80757]]\n",
      "F1: 0.6764559294703998\n",
      "Accuracy: 0.9219686868686868\n"
     ]
    }
   ],
   "source": [
    "print(\"Confusion matrix:\\n\", confusion_matrix(y_test, y_pred))\n",
    "\n",
    "print(\"F1:\", f1_score(y_test, y_pred))\n",
    "\n",
    "print(\"Accuracy:\", accuracy_score(y_test, y_pred))"
   ]
  },
  {
   "cell_type": "markdown",
   "metadata": {},
   "source": [
    "#### Imbalanced Dataset"
   ]
  },
  {
   "cell_type": "markdown",
   "metadata": {},
   "source": [
    "- All attributes"
   ]
  },
  {
   "cell_type": "code",
   "execution_count": 41,
   "metadata": {},
   "outputs": [],
   "source": [
    "clf.fit(X_train, y_train)\n",
    "\n",
    "y_pred = clf.predict(X_test)"
   ]
  },
  {
   "cell_type": "code",
   "execution_count": 42,
   "metadata": {},
   "outputs": [
    {
     "name": "stdout",
     "output_type": "stream",
     "text": [
      "Confusion matrix:\n",
      " [[898060   5408]\n",
      " [ 33498  53034]]\n",
      "F1: 0.731634637935078\n",
      "Accuracy: 0.9607010101010101\n"
     ]
    }
   ],
   "source": [
    "print(\"Confusion matrix:\\n\", confusion_matrix(y_test, y_pred))\n",
    "\n",
    "print(\"F1:\", f1_score(y_test, y_pred))\n",
    "\n",
    "print(\"Accuracy:\", accuracy_score(y_test, y_pred))"
   ]
  },
  {
   "cell_type": "markdown",
   "metadata": {},
   "source": [
    "- Positive correlation attributes"
   ]
  },
  {
   "cell_type": "code",
   "execution_count": 43,
   "metadata": {},
   "outputs": [],
   "source": [
    "clf.fit(X_corr_train, y_corr_train)\n",
    "\n",
    "y_corr_pred = clf.predict(X_corr_test)"
   ]
  },
  {
   "cell_type": "code",
   "execution_count": 44,
   "metadata": {},
   "outputs": [
    {
     "name": "stdout",
     "output_type": "stream",
     "text": [
      "Confusion matrix:\n",
      " [[895237   8231]\n",
      " [ 46977  39555]]\n",
      "F1: 0.5889754165487872\n",
      "Accuracy: 0.9442343434343434\n"
     ]
    }
   ],
   "source": [
    "print(\"Confusion matrix:\\n\", confusion_matrix(y_corr_test, y_corr_pred))\n",
    "\n",
    "print(\"F1:\", f1_score(y_corr_test, y_corr_pred))\n",
    "\n",
    "print(\"Accuracy:\", accuracy_score(y_corr_test, y_corr_pred))"
   ]
  },
  {
   "cell_type": "markdown",
   "metadata": {},
   "source": [
    "### Training models with less data <a class=\"anchor\" id=\"training2\"></a>"
   ]
  },
  {
   "cell_type": "markdown",
   "metadata": {},
   "source": [
    "#### Decision Tree <a class=\"anchor\" id=\"dt2\"></a>"
   ]
  },
  {
   "cell_type": "code",
   "execution_count": 45,
   "metadata": {},
   "outputs": [
    {
     "name": "stdout",
     "output_type": "stream",
     "text": [
      "Percentage of training data : 0.95\n",
      "Confusion matrix:\n",
      " [[45703     0]\n",
      " [    0  4297]]\n",
      "Percentage of training data : 0.85\n",
      "Confusion matrix:\n",
      " [[136837      1]\n",
      " [     3  13160]]\n",
      "Percentage of training data : 0.75\n",
      "Confusion matrix:\n",
      " [[228076      1]\n",
      " [     5  21918]]\n",
      "Percentage of training data : 0.6499999999999999\n",
      "Confusion matrix:\n",
      " [[319349      2]\n",
      " [     5  30645]]\n",
      "Percentage of training data : 0.55\n",
      "Confusion matrix:\n",
      " [[410516      2]\n",
      " [     9  39473]]\n",
      "Percentage of training data : 0.44999999999999996\n",
      "Confusion matrix:\n",
      " [[501926      9]\n",
      " [    18  48047]]\n",
      "Percentage of training data : 0.34999999999999987\n",
      "Confusion matrix:\n",
      " [[593218      5]\n",
      " [    16  56762]]\n",
      "Percentage of training data : 0.2499999999999999\n",
      "Confusion matrix:\n",
      " [[684444      6]\n",
      " [    23  65528]]\n",
      "Percentage of training data : 0.1499999999999999\n",
      "Confusion matrix:\n",
      " [[775603     28]\n",
      " [    40  74330]]\n",
      "Percentage of training data : 0.04999999999999993\n",
      "Confusion matrix:\n",
      " [[866879     28]\n",
      " [   106  82988]]\n"
     ]
    }
   ],
   "source": [
    "from sklearn.tree import DecisionTreeClassifier\n",
    "decision_tree_classifier = DecisionTreeClassifier()\n",
    "\n",
    "f1 = []\n",
    "accuracy = []\n",
    "percentage = []\n",
    "\n",
    "\n",
    "for i in range (10):\n",
    "    (X_train,\n",
    "    X_test,\n",
    "    y_train,\n",
    "    y_test) = train_test_split(X, Y, test_size=(0.05+i*0.1), random_state=1)\n",
    "    \n",
    "    decision_tree_classifier.fit(X_train, y_train)\n",
    "    y_pred = decision_tree_classifier.predict(X_test)\n",
    "\n",
    "    print(\"Percentage of training data :\", 1 - (0.05 + i*0.1))\n",
    "\n",
    "    print(\"Confusion matrix:\\n\", confusion_matrix(y_test, y_pred))\n",
    "\n",
    "    percentage.append(1-(0.05+i*0.1))\n",
    "\n",
    "    f1.append(f1_score(y_test, y_pred))\n",
    "\n",
    "    accuracy.append(accuracy_score(y_test, y_pred))"
   ]
  },
  {
   "cell_type": "code",
   "execution_count": 46,
   "metadata": {},
   "outputs": [
    {
     "data": {
      "image/png": "[encoded data removed]",
      "text/plain": [
       "<Figure size 432x288 with 1 Axes>"
      ]
     },
     "metadata": {
      "needs_background": "light"
     },
     "output_type": "display_data"
    }
   ],
   "source": [
    "plt.plot(percentage, accuracy, 'g', label='Accuracy')\n",
    "plt.plot(percentage, f1, 'b', label='F1')\n",
    "\n",
    "plt.title(\"Evolution of Accuracy and F1\")\n",
    "\n",
    "plt.xlabel('percentage of training data')\n",
    "\n",
    "plt.ylabel('value')\n",
    "\n",
    "plt.legend()\n",
    "\n",
    "plt.show()"
   ]
  },
  {
   "cell_type": "markdown",
   "metadata": {},
   "source": [
    "#### Neural Networks <a class=\"anchor\" id=\"nn2\"></a>"
   ]
  },
  {
   "cell_type": "code",
   "execution_count": 51,
   "metadata": {},
   "outputs": [
    {
     "name": "stdout",
     "output_type": "stream",
     "text": [
      "Percentage of training data : 0.95\n",
      "Confusion matrix:\n",
      " [[45615    88]\n",
      " [  144  4153]]\n",
      "Percentage of training data : 0.85\n",
      "Confusion matrix:\n",
      " [[136528    310]\n",
      " [  1733  11430]]\n",
      "Percentage of training data : 0.75\n",
      "Confusion matrix:\n",
      " [[227253    824]\n",
      " [   595  21328]]\n",
      "Percentage of training data : 0.6499999999999999\n",
      "Confusion matrix:\n",
      " [[318277   1074]\n",
      " [  1856  28794]]\n",
      "Percentage of training data : 0.55\n",
      "Confusion matrix:\n",
      " [[409165   1353]\n",
      " [  1773  37709]]\n",
      "Percentage of training data : 0.44999999999999996\n",
      "Confusion matrix:\n",
      " [[497259   4676]\n",
      " [  6196  41869]]\n",
      "Percentage of training data : 0.34999999999999987\n",
      "Confusion matrix:\n",
      " [[591367   1856]\n",
      " [  3244  53534]]\n",
      "Percentage of training data : 0.2499999999999999\n",
      "Confusion matrix:\n",
      " [[680584   3866]\n",
      " [  2478  63073]]\n",
      "Percentage of training data : 0.1499999999999999\n",
      "Confusion matrix:\n",
      " [[772275   3356]\n",
      " [  1761  72609]]\n",
      "Percentage of training data : 0.04999999999999993\n",
      "Confusion matrix:\n",
      " [[858494   8413]\n",
      " [  3903  79191]]\n"
     ]
    }
   ],
   "source": [
    "from sklearn.neural_network import MLPClassifier\n",
    "from sklearn.neural_network import MLPRegressor\n",
    "\n",
    "mlp = MLPClassifier(hidden_layer_sizes=(4,4), activation='relu', solver='adam', max_iter=200)\n",
    "\n",
    "f1 = []\n",
    "accuracy = []\n",
    "percentage = []\n",
    "\n",
    "\n",
    "for i in range (10):\n",
    "    (X_train,\n",
    "    X_test,\n",
    "    y_train,\n",
    "    y_test) = train_test_split(X, Y, test_size=(0.05+i*0.1), random_state=1)\n",
    "    \n",
    "    mlp.fit(X_train, y_train)\n",
    "    y_pred = mlp.predict(X_test)\n",
    "\n",
    "    print(\"Percentage of training data :\", 1 - (0.05 + i*0.1))\n",
    "\n",
    "    print(\"Confusion matrix:\\n\", confusion_matrix(y_test, y_pred))\n",
    "\n",
    "    percentage.append(1-(0.05+i*0.1))\n",
    "\n",
    "    f1.append(f1_score(y_test, y_pred))\n",
    "\n",
    "    accuracy.append(accuracy_score(y_test, y_pred))"
   ]
  },
  {
   "cell_type": "code",
   "execution_count": 52,
   "metadata": {},
   "outputs": [
    {
     "data": {
      "image/png": "[encoded data removed]",
      "text/plain": [
       "<Figure size 432x288 with 1 Axes>"
      ]
     },
     "metadata": {
      "needs_background": "light"
     },
     "output_type": "display_data"
    }
   ],
   "source": [
    "plt.plot(percentage, accuracy, 'g', label='Accuracy')\n",
    "plt.plot(percentage, f1, 'b', label='F1')\n",
    "\n",
    "plt.title(\"Evolution of Accuracy and F1\")\n",
    "\n",
    "plt.xlabel('percentage of training data')\n",
    "\n",
    "plt.ylabel('value')\n",
    "\n",
    "plt.legend()\n",
    "\n",
    "plt.show()"
   ]
  },
  {
   "cell_type": "markdown",
   "metadata": {},
   "source": [
    "#### K-NN <a class=\"anchor\" id=\"knn2\"></a>"
   ]
  },
  {
   "cell_type": "code",
   "execution_count": 49,
   "metadata": {},
   "outputs": [
    {
     "name": "stdout",
     "output_type": "stream",
     "text": [
      "Percentage of training data : 0.95\n",
      "Confusion matrix:\n",
      " [[45288   415]\n",
      " [  288  4009]]\n",
      "Percentage of training data : 0.85\n",
      "Confusion matrix:\n",
      " [[135504   1334]\n",
      " [   862  12301]]\n",
      "Percentage of training data : 0.75\n",
      "Confusion matrix:\n",
      " [[225717   2360]\n",
      " [  1473  20450]]\n",
      "Percentage of training data : 0.6499999999999999\n",
      "Confusion matrix:\n",
      " [[315886   3465]\n",
      " [  2247  28403]]\n",
      "Percentage of training data : 0.55\n",
      "Confusion matrix:\n",
      " [[405836   4682]\n",
      " [  3154  36328]]\n",
      "Percentage of training data : 0.44999999999999996\n",
      "Confusion matrix:\n",
      " [[495776   6159]\n",
      " [  4179  43886]]\n",
      "Percentage of training data : 0.34999999999999987\n",
      "Confusion matrix:\n",
      " [[585261   7962]\n",
      " [  5418  51360]]\n",
      "Percentage of training data : 0.2499999999999999\n",
      "Confusion matrix:\n",
      " [[674270  10180]\n",
      " [  7298  58253]]\n",
      "Percentage of training data : 0.1499999999999999\n",
      "Confusion matrix:\n",
      " [[762294  13337]\n",
      " [ 10266  64104]]\n",
      "Percentage of training data : 0.04999999999999993\n",
      "Confusion matrix:\n",
      " [[847226  19681]\n",
      " [ 17084  66010]]\n"
     ]
    }
   ],
   "source": [
    "from sklearn.neighbors import KNeighborsClassifier\n",
    "\n",
    "knn = KNeighborsClassifier(n_neighbors=3)\n",
    "\n",
    "f1 = []\n",
    "accuracy = []\n",
    "percentage = []\n",
    "\n",
    "\n",
    "for i in range (10):\n",
    "    (X_train,\n",
    "    X_test,\n",
    "    y_train,\n",
    "    y_test) = train_test_split(X, Y, test_size=(0.05+i*0.1), random_state=1)\n",
    "    \n",
    "    knn.fit(X_train, y_train)\n",
    "    y_pred = knn.predict(X_test)\n",
    "\n",
    "    print(\"Percentage of training data :\", 1 - (0.05 + i*0.1))\n",
    "\n",
    "    print(\"Confusion matrix:\\n\", confusion_matrix(y_test, y_pred))\n",
    "\n",
    "    percentage.append(1-(0.05+i*0.1))\n",
    "\n",
    "    f1.append(f1_score(y_test, y_pred))\n",
    "\n",
    "    accuracy.append(accuracy_score(y_test, y_pred))"
   ]
  },
  {
   "cell_type": "code",
   "execution_count": 50,
   "metadata": {},
   "outputs": [
    {
     "data": {
      "image/png": "[encoded data removed]",
      "text/plain": [
       "<Figure size 432x288 with 1 Axes>"
      ]
     },
     "metadata": {
      "needs_background": "light"
     },
     "output_type": "display_data"
    }
   ],
   "source": [
    "plt.plot(percentage, accuracy, 'g', label='Accuracy')\n",
    "plt.plot(percentage, f1, 'b', label='F1')\n",
    "\n",
    "plt.title(\"Evolution of Accuracy and F1\")\n",
    "\n",
    "plt.xlabel('percentage of training data')\n",
    "\n",
    "plt.ylabel('value')\n",
    "\n",
    "plt.legend()\n",
    "\n",
    "plt.show()"
   ]
  },
  {
   "cell_type": "markdown",
   "metadata": {},
   "source": [
    "### Cross Validation <a class=\"anchor\" id=\"cv\"></a>"
   ]
  },
  {
   "cell_type": "markdown",
   "metadata": {},
   "source": [
    "Even though we have a lot of data (1 million lines), Neural Networks didn't achieve the best result so we wanted to try cross-validation to analyse how much better would the results get"
   ]
  },
  {
   "cell_type": "code",
   "execution_count": 14,
   "metadata": {},
   "outputs": [
    {
     "name": "stdout",
     "output_type": "stream",
     "text": [
      "1.00 accuracy with a standard deviation of 0.00\n"
     ]
    }
   ],
   "source": [
    "from sklearn.model_selection import cross_val_score\n",
    "from sklearn.neural_network import MLPClassifier\n",
    "\n",
    "mlp = MLPClassifier(hidden_layer_sizes=(20,20), activation='relu', solver='adam', max_iter=200)\n",
    "\n",
    "scores = cross_val_score(mlp, X, Y, cv=10)\n",
    "\n",
    "print(\"%0.2f accuracy with a standard deviation of %0.2f\" % (scores.mean(), scores.std()))"
   ]
  },
  {
   "cell_type": "code",
   "execution_count": 16,
   "metadata": {},
   "outputs": [
    {
     "name": "stdout",
     "output_type": "stream",
     "text": [
      "Accuracy: 0.9982469999999999\n",
      "[0.99621 0.99852 0.99764 0.99878 0.99788 0.99854 0.99878 0.99893 0.99886\n",
      " 0.99833]\n"
     ]
    }
   ],
   "source": [
    "print(\"Accuracy:\", scores.mean())\n",
    "\n",
    "print(scores)"
   ]
  }
 ],
 "metadata": {
  "interpreter": {
   "hash": "0c7ee3fe0511964dde0ab71203dae3be937f26253fe8e676ba5adca384951c4b"
  },
  "kernelspec": {
   "display_name": "Python 3.9.7 ('base')",
   "language": "python",
   "name": "python3"
  },
  "language_info": {
   "codemirror_mode": {
    "name": "ipython",
    "version": 3
   },
   "file_extension": ".py",
   "mimetype": "text/x-python",
   "name": "python",
   "nbconvert_exporter": "python",
   "pygments_lexer": "ipython3",
   "version": "3.9.7"
  },
  "orig_nbformat": 4
 },
 "nbformat": 4,
 "nbformat_minor": 2
}
